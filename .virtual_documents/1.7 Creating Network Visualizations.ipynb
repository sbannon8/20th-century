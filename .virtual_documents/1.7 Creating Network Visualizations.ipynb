


import pandas as pd
import numpy as np
import networkx as nx
import os
import matplotlib.pyplot as plt
from pyvis.network import Network
import seaborn as sns
import pyvis 





relationship_df = pd.read_csv('relationships.csv') 





relationship_df.head()


# create a graph from a pandas dataframe
G = nx.from_pandas_edgelist(relationship_df,
                source = "source",
                target = "target",
                edge_attr =  "value",
                create_using = nx.Graph())


# output graph
plt.figure(figsize = (10,10))
pos = nx.kamada_kawai_layout (G)
nx.draw(G, with_labels = True, node_color = 'red', edge_cmap = plt.cm.Blues, pos = pos)


# Define net object
net = Network()
net = Network(notebook = True,width="900px", height="800px", bgcolor='#222222', font_color='white')

# Define nodes from the G object
node_degree = dict(G.degree)

# Setting up node size attributes
nx.set_node_attributes(G, node_degree, 'size')
net.from_nx(G)
net.show_buttons(filter_= True)
net.repulsion()
net.show("20thcentury.html")





from cdlib import algorithms
coms = algorithms.leiden(G)


new_com = coms.to_node_community_map()


new_com


# put output from new_com into dictionary
dict_com = {k:v[0] for k, v in new_com.items()}


# Rerun network graph with the communities as an argument
nx.set_node_attriubtes(G, dict_com, 'group')
com_net = Network(notebook = True, width="1300px", height="700px", bgcolor='#222222', font_color='white')
com_net.from_nx(G)
com_net.show_buttons(filter_ = True)
com_net.repulsion()
com_net.show("20thcent_communities_leiden.html")



