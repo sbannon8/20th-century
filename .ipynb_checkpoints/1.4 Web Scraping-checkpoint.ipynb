{
 "cells": [
  {
   "cell_type": "markdown",
   "id": "9f61a5ba-9e0c-46ad-9b25-cde94ea0088f",
   "metadata": {},
   "source": [
    "## Import Libraries"
   ]
  },
  {
   "cell_type": "code",
   "execution_count": 17,
   "id": "fff7c84e-d58c-480e-a31d-49bd0f89b871",
   "metadata": {},
   "outputs": [],
   "source": [
    "import pandas as pd\n",
    "import time\n",
    "from selenium import webdriver\n",
    "from webdriver_manager.chrome import ChromeDriverManager\n",
    "from selenium.webdriver.common.by import By\n",
    "from selenium.webdriver.chrome.service import Service\n",
    "from selenium.webdriver.chrome.options import Options\n",
    "import matplotlib.pyplot as plt \n",
    "import os\n",
    "import logging"
   ]
  },
  {
   "cell_type": "code",
   "execution_count": 26,
   "id": "efd1a4c4-0493-469f-8df9-8cb92ece1587",
   "metadata": {},
   "outputs": [],
   "source": [
    "from bs4 import BeautifulSoup\n",
    "import requests"
   ]
  },
  {
   "cell_type": "code",
   "execution_count": 19,
   "id": "40d01e74-2af6-4197-846f-913f213219b7",
   "metadata": {},
   "outputs": [],
   "source": [
    "options = Options()\n",
    "# options.add_argument(\"--headless\") # optional: hide browser\n",
    "options.add_argument(\"--no-sandbox\")\n",
    "options.add_argument(\"--disable-dev-shm-usage\")\n",
    "\n",
    "service = Service(ChromeDriverManager().install())\n",
    "driver = webdriver.Chrome(service=service, options=options)"
   ]
  },
  {
   "cell_type": "markdown",
   "id": "27898109-cf66-4b49-95e0-dc2138d1af69",
   "metadata": {},
   "source": [
    "## Web Scrapping"
   ]
  },
  {
   "cell_type": "markdown",
   "id": "14e00786-b897-4f8a-87e3-4b39a82028bd",
   "metadata": {},
   "source": [
    "1. Define the URL"
   ]
  },
  {
   "cell_type": "code",
   "execution_count": 28,
   "id": "e02f7c1a-796e-4f77-aa53-94f42f3f50be",
   "metadata": {},
   "outputs": [],
   "source": [
    "# get the page's contents\n",
    "page_url = requests.get(\"https://en.wikipedia.org/wiki/Key_events_of_the_20th_century\")"
   ]
  },
  {
   "cell_type": "markdown",
   "id": "425b6c22-2ab4-41cc-b39b-fdbc7ac38e19",
   "metadata": {},
   "source": [
    "2. Create soup and get title"
   ]
  },
  {
   "cell_type": "code",
   "execution_count": 33,
   "id": "d20dfb62-6bdb-4000-b380-dcab9ebff062",
   "metadata": {},
   "outputs": [
    {
     "name": "stdout",
     "output_type": "stream",
     "text": [
      "<title>Key events of the 20th century - Wikipedia</title>\n"
     ]
    }
   ],
   "source": [
    "# parse what was received in the get() request\n",
    "soup = BeautifulSoup(page_url.text, 'html.parser')\n",
    "print(soup.title)"
   ]
  },
  {
   "cell_type": "code",
   "execution_count": 35,
   "id": "a794b393-bea0-422b-ba89-f688471fc69a",
   "metadata": {},
   "outputs": [],
   "source": [
    "# create object that stores all the text\n",
    "text = soup.get_text()\n",
    "# define its encoding\n",
    "text = text.encode('utf-8')\n",
    "# save the file \n",
    "with open('20th_century_wiki.txt', 'wb') as f:\n",
    "    f.write(text)"
   ]
  },
  {
   "cell_type": "code",
   "execution_count": null,
   "id": "7f8823da-909d-4934-8670-98a411facfa3",
   "metadata": {},
   "outputs": [],
   "source": []
  }
 ],
 "metadata": {
  "kernelspec": {
   "display_name": "Python (20th_century)",
   "language": "python",
   "name": "20th_century"
  },
  "language_info": {
   "codemirror_mode": {
    "name": "ipython",
    "version": 3
   },
   "file_extension": ".py",
   "mimetype": "text/x-python",
   "name": "python",
   "nbconvert_exporter": "python",
   "pygments_lexer": "ipython3",
   "version": "3.12.3"
  }
 },
 "nbformat": 4,
 "nbformat_minor": 5
}
