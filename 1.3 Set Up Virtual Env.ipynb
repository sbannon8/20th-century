{
 "cells": [
  {
   "cell_type": "markdown",
   "id": "5a3f7584-13f9-4f4c-9891-1144813c66cd",
   "metadata": {},
   "source": [
    "## Importing Libraries"
   ]
  },
  {
   "cell_type": "code",
   "execution_count": 3,
   "id": "08b3afa7-3525-403d-9031-221637ee1602",
   "metadata": {},
   "outputs": [],
   "source": [
    "import pandas as pd"
   ]
  },
  {
   "cell_type": "markdown",
   "id": "9442035a-fbc4-44c6-8f32-d98b8d1de705",
   "metadata": {},
   "source": [
    "## Create Dataframe"
   ]
  },
  {
   "cell_type": "code",
   "execution_count": 5,
   "id": "e200ad2d-e858-4cc5-97f9-d2d21c9c6e95",
   "metadata": {},
   "outputs": [],
   "source": [
    "# create dataframe\n",
    "data = pd.DataFrame({\"Month\": ['January', 'Feburary', 'March', 'April'], \n",
    "                     \"Day\": [1, 14, 3, 29],\n",
    "                     \"Year\": [1901, 1939, 1962, 1956]})"
   ]
  },
  {
   "cell_type": "code",
   "execution_count": 6,
   "id": "fa628f1b-dda1-4ee0-96a6-80e6b71583c0",
   "metadata": {},
   "outputs": [
    {
     "data": {
      "text/html": [
       "<div>\n",
       "<style scoped>\n",
       "    .dataframe tbody tr th:only-of-type {\n",
       "        vertical-align: middle;\n",
       "    }\n",
       "\n",
       "    .dataframe tbody tr th {\n",
       "        vertical-align: top;\n",
       "    }\n",
       "\n",
       "    .dataframe thead th {\n",
       "        text-align: right;\n",
       "    }\n",
       "</style>\n",
       "<table border=\"1\" class=\"dataframe\">\n",
       "  <thead>\n",
       "    <tr style=\"text-align: right;\">\n",
       "      <th></th>\n",
       "      <th>Month</th>\n",
       "      <th>Day</th>\n",
       "      <th>Year</th>\n",
       "    </tr>\n",
       "  </thead>\n",
       "  <tbody>\n",
       "    <tr>\n",
       "      <th>0</th>\n",
       "      <td>January</td>\n",
       "      <td>1</td>\n",
       "      <td>1901</td>\n",
       "    </tr>\n",
       "    <tr>\n",
       "      <th>1</th>\n",
       "      <td>Feburary</td>\n",
       "      <td>14</td>\n",
       "      <td>1939</td>\n",
       "    </tr>\n",
       "    <tr>\n",
       "      <th>2</th>\n",
       "      <td>March</td>\n",
       "      <td>3</td>\n",
       "      <td>1962</td>\n",
       "    </tr>\n",
       "    <tr>\n",
       "      <th>3</th>\n",
       "      <td>April</td>\n",
       "      <td>29</td>\n",
       "      <td>1956</td>\n",
       "    </tr>\n",
       "  </tbody>\n",
       "</table>\n",
       "</div>"
      ],
      "text/plain": [
       "      Month  Day  Year\n",
       "0   January    1  1901\n",
       "1  Feburary   14  1939\n",
       "2     March    3  1962\n",
       "3     April   29  1956"
      ]
     },
     "execution_count": 6,
     "metadata": {},
     "output_type": "execute_result"
    }
   ],
   "source": [
    "data"
   ]
  },
  {
   "cell_type": "markdown",
   "id": "ba22de9c-784e-477a-b6ce-158fcbf4ab34",
   "metadata": {},
   "source": [
    "**apply() Function**"
   ]
  },
  {
   "cell_type": "code",
   "execution_count": 8,
   "id": "0d16b847-cc88-4d9d-a3a2-a9e2597f3144",
   "metadata": {},
   "outputs": [
    {
     "data": {
      "text/html": [
       "<div>\n",
       "<style scoped>\n",
       "    .dataframe tbody tr th:only-of-type {\n",
       "        vertical-align: middle;\n",
       "    }\n",
       "\n",
       "    .dataframe tbody tr th {\n",
       "        vertical-align: top;\n",
       "    }\n",
       "\n",
       "    .dataframe thead th {\n",
       "        text-align: right;\n",
       "    }\n",
       "</style>\n",
       "<table border=\"1\" class=\"dataframe\">\n",
       "  <thead>\n",
       "    <tr style=\"text-align: right;\">\n",
       "      <th></th>\n",
       "      <th>Month</th>\n",
       "      <th>Day</th>\n",
       "      <th>Year</th>\n",
       "      <th>Decade</th>\n",
       "    </tr>\n",
       "  </thead>\n",
       "  <tbody>\n",
       "    <tr>\n",
       "      <th>0</th>\n",
       "      <td>January</td>\n",
       "      <td>1</td>\n",
       "      <td>1901</td>\n",
       "      <td>00s</td>\n",
       "    </tr>\n",
       "    <tr>\n",
       "      <th>1</th>\n",
       "      <td>Feburary</td>\n",
       "      <td>14</td>\n",
       "      <td>1939</td>\n",
       "      <td>30s</td>\n",
       "    </tr>\n",
       "    <tr>\n",
       "      <th>2</th>\n",
       "      <td>March</td>\n",
       "      <td>3</td>\n",
       "      <td>1962</td>\n",
       "      <td>60s</td>\n",
       "    </tr>\n",
       "    <tr>\n",
       "      <th>3</th>\n",
       "      <td>April</td>\n",
       "      <td>29</td>\n",
       "      <td>1956</td>\n",
       "      <td>50s</td>\n",
       "    </tr>\n",
       "  </tbody>\n",
       "</table>\n",
       "</div>"
      ],
      "text/plain": [
       "      Month  Day  Year Decade\n",
       "0   January    1  1901    00s\n",
       "1  Feburary   14  1939    30s\n",
       "2     March    3  1962    60s\n",
       "3     April   29  1956    50s"
      ]
     },
     "execution_count": 8,
     "metadata": {},
     "output_type": "execute_result"
    }
   ],
   "source": [
    "# define function\n",
    "def get_decade(row):\n",
    "        decade = (row['Year']//10) * 10 # return the first 3 numbers x 10\n",
    "        return str(decade)[2:] + \"s\" # return the last 2 digits with an 's'\n",
    "\n",
    "# create new column & apply function\n",
    "data['Decade'] = data.apply(get_decade, axis=1)\n",
    "\n",
    "data"
   ]
  },
  {
   "cell_type": "markdown",
   "id": "9be1f4d1-6b3a-45c9-bf8a-b7ce74e93bde",
   "metadata": {},
   "source": [
    "**Lambda Function**"
   ]
  },
  {
   "cell_type": "code",
   "execution_count": 10,
   "id": "f0225632-3e4a-4c4f-a554-18a8967ce46e",
   "metadata": {},
   "outputs": [
    {
     "data": {
      "text/plain": [
       "0    1900\n",
       "1    1930\n",
       "2    1960\n",
       "3    1950\n",
       "Name: Year, dtype: int64"
      ]
     },
     "execution_count": 10,
     "metadata": {},
     "output_type": "execute_result"
    }
   ],
   "source": [
    "# use lambda function to achieve same result\n",
    "decade_lambda = lambda x: (x//10) * 10\n",
    "decade_lambda(data['Year'])"
   ]
  },
  {
   "cell_type": "code",
   "execution_count": 11,
   "id": "88d65a17-a772-49fa-adf6-390a6e8c5f6d",
   "metadata": {},
   "outputs": [
    {
     "data": {
      "text/html": [
       "<div>\n",
       "<style scoped>\n",
       "    .dataframe tbody tr th:only-of-type {\n",
       "        vertical-align: middle;\n",
       "    }\n",
       "\n",
       "    .dataframe tbody tr th {\n",
       "        vertical-align: top;\n",
       "    }\n",
       "\n",
       "    .dataframe thead th {\n",
       "        text-align: right;\n",
       "    }\n",
       "</style>\n",
       "<table border=\"1\" class=\"dataframe\">\n",
       "  <thead>\n",
       "    <tr style=\"text-align: right;\">\n",
       "      <th></th>\n",
       "      <th>Month</th>\n",
       "      <th>Day</th>\n",
       "      <th>Year</th>\n",
       "      <th>Decade</th>\n",
       "      <th>Decade 2</th>\n",
       "    </tr>\n",
       "  </thead>\n",
       "  <tbody>\n",
       "    <tr>\n",
       "      <th>0</th>\n",
       "      <td>January</td>\n",
       "      <td>1</td>\n",
       "      <td>1901</td>\n",
       "      <td>00s</td>\n",
       "      <td>1900</td>\n",
       "    </tr>\n",
       "    <tr>\n",
       "      <th>1</th>\n",
       "      <td>Feburary</td>\n",
       "      <td>14</td>\n",
       "      <td>1939</td>\n",
       "      <td>30s</td>\n",
       "      <td>1930</td>\n",
       "    </tr>\n",
       "    <tr>\n",
       "      <th>2</th>\n",
       "      <td>March</td>\n",
       "      <td>3</td>\n",
       "      <td>1962</td>\n",
       "      <td>60s</td>\n",
       "      <td>1960</td>\n",
       "    </tr>\n",
       "    <tr>\n",
       "      <th>3</th>\n",
       "      <td>April</td>\n",
       "      <td>29</td>\n",
       "      <td>1956</td>\n",
       "      <td>50s</td>\n",
       "      <td>1950</td>\n",
       "    </tr>\n",
       "  </tbody>\n",
       "</table>\n",
       "</div>"
      ],
      "text/plain": [
       "      Month  Day  Year Decade  Decade 2\n",
       "0   January    1  1901    00s      1900\n",
       "1  Feburary   14  1939    30s      1930\n",
       "2     March    3  1962    60s      1960\n",
       "3     April   29  1956    50s      1950"
      ]
     },
     "execution_count": 11,
     "metadata": {},
     "output_type": "execute_result"
    }
   ],
   "source": [
    "# create new column for it\n",
    "data['Decade 2'] = decade_lambda(data['Year'])\n",
    "\n",
    "data"
   ]
  },
  {
   "cell_type": "markdown",
   "id": "62ecea5e-382d-4e7f-a746-7be081330c7c",
   "metadata": {},
   "source": [
    "**Using Lambda with apply()**"
   ]
  },
  {
   "cell_type": "code",
   "execution_count": 13,
   "id": "09d2b236-4c35-4521-a151-62b253589bbd",
   "metadata": {},
   "outputs": [
    {
     "data": {
      "text/html": [
       "<div>\n",
       "<style scoped>\n",
       "    .dataframe tbody tr th:only-of-type {\n",
       "        vertical-align: middle;\n",
       "    }\n",
       "\n",
       "    .dataframe tbody tr th {\n",
       "        vertical-align: top;\n",
       "    }\n",
       "\n",
       "    .dataframe thead th {\n",
       "        text-align: right;\n",
       "    }\n",
       "</style>\n",
       "<table border=\"1\" class=\"dataframe\">\n",
       "  <thead>\n",
       "    <tr style=\"text-align: right;\">\n",
       "      <th></th>\n",
       "      <th>Month</th>\n",
       "      <th>Day</th>\n",
       "      <th>Year</th>\n",
       "      <th>Decade</th>\n",
       "      <th>Decade 2</th>\n",
       "      <th>Decade 3</th>\n",
       "    </tr>\n",
       "  </thead>\n",
       "  <tbody>\n",
       "    <tr>\n",
       "      <th>0</th>\n",
       "      <td>January</td>\n",
       "      <td>1</td>\n",
       "      <td>1901</td>\n",
       "      <td>00s</td>\n",
       "      <td>1900</td>\n",
       "      <td>1900</td>\n",
       "    </tr>\n",
       "    <tr>\n",
       "      <th>1</th>\n",
       "      <td>Feburary</td>\n",
       "      <td>14</td>\n",
       "      <td>1939</td>\n",
       "      <td>30s</td>\n",
       "      <td>1930</td>\n",
       "      <td>1930</td>\n",
       "    </tr>\n",
       "    <tr>\n",
       "      <th>2</th>\n",
       "      <td>March</td>\n",
       "      <td>3</td>\n",
       "      <td>1962</td>\n",
       "      <td>60s</td>\n",
       "      <td>1960</td>\n",
       "      <td>1960</td>\n",
       "    </tr>\n",
       "    <tr>\n",
       "      <th>3</th>\n",
       "      <td>April</td>\n",
       "      <td>29</td>\n",
       "      <td>1956</td>\n",
       "      <td>50s</td>\n",
       "      <td>1950</td>\n",
       "      <td>1950</td>\n",
       "    </tr>\n",
       "  </tbody>\n",
       "</table>\n",
       "</div>"
      ],
      "text/plain": [
       "      Month  Day  Year Decade  Decade 2  Decade 3\n",
       "0   January    1  1901    00s      1900      1900\n",
       "1  Feburary   14  1939    30s      1930      1930\n",
       "2     March    3  1962    60s      1960      1960\n",
       "3     April   29  1956    50s      1950      1950"
      ]
     },
     "execution_count": 13,
     "metadata": {},
     "output_type": "execute_result"
    }
   ],
   "source": [
    "data['Decade 3'] = data['Year'].apply(lambda x: (x//10) * 10)\n",
    "\n",
    "data"
   ]
  },
  {
   "cell_type": "markdown",
   "id": "75075392-cfd4-4e3c-b514-5616442358b6",
   "metadata": {},
   "source": [
    "**Create a Label Column**"
   ]
  },
  {
   "cell_type": "markdown",
   "id": "67c90d9a-67a3-4e79-91b4-0c51e5fc89c0",
   "metadata": {},
   "source": [
    "Set the labels as:  \n",
    "- If Decade < 1950: early  \n",
    "- If Decade == 1950: mid  \n",
    "- If Decade > 1950: late"
   ]
  },
  {
   "cell_type": "code",
   "execution_count": 16,
   "id": "2f9094d9-6cff-4d22-8937-625577468db5",
   "metadata": {},
   "outputs": [
    {
     "data": {
      "text/html": [
       "<div>\n",
       "<style scoped>\n",
       "    .dataframe tbody tr th:only-of-type {\n",
       "        vertical-align: middle;\n",
       "    }\n",
       "\n",
       "    .dataframe tbody tr th {\n",
       "        vertical-align: top;\n",
       "    }\n",
       "\n",
       "    .dataframe thead th {\n",
       "        text-align: right;\n",
       "    }\n",
       "</style>\n",
       "<table border=\"1\" class=\"dataframe\">\n",
       "  <thead>\n",
       "    <tr style=\"text-align: right;\">\n",
       "      <th></th>\n",
       "      <th>Month</th>\n",
       "      <th>Day</th>\n",
       "      <th>Year</th>\n",
       "      <th>Decade</th>\n",
       "      <th>Decade 2</th>\n",
       "      <th>Decade 3</th>\n",
       "      <th>Decade Label</th>\n",
       "    </tr>\n",
       "  </thead>\n",
       "  <tbody>\n",
       "    <tr>\n",
       "      <th>0</th>\n",
       "      <td>January</td>\n",
       "      <td>1</td>\n",
       "      <td>1901</td>\n",
       "      <td>00s</td>\n",
       "      <td>1900</td>\n",
       "      <td>1900</td>\n",
       "      <td>early</td>\n",
       "    </tr>\n",
       "    <tr>\n",
       "      <th>1</th>\n",
       "      <td>Feburary</td>\n",
       "      <td>14</td>\n",
       "      <td>1939</td>\n",
       "      <td>30s</td>\n",
       "      <td>1930</td>\n",
       "      <td>1930</td>\n",
       "      <td>early</td>\n",
       "    </tr>\n",
       "    <tr>\n",
       "      <th>2</th>\n",
       "      <td>March</td>\n",
       "      <td>3</td>\n",
       "      <td>1962</td>\n",
       "      <td>60s</td>\n",
       "      <td>1960</td>\n",
       "      <td>1960</td>\n",
       "      <td>late</td>\n",
       "    </tr>\n",
       "    <tr>\n",
       "      <th>3</th>\n",
       "      <td>April</td>\n",
       "      <td>29</td>\n",
       "      <td>1956</td>\n",
       "      <td>50s</td>\n",
       "      <td>1950</td>\n",
       "      <td>1950</td>\n",
       "      <td>mid</td>\n",
       "    </tr>\n",
       "  </tbody>\n",
       "</table>\n",
       "</div>"
      ],
      "text/plain": [
       "      Month  Day  Year Decade  Decade 2  Decade 3 Decade Label\n",
       "0   January    1  1901    00s      1900      1900        early\n",
       "1  Feburary   14  1939    30s      1930      1930        early\n",
       "2     March    3  1962    60s      1960      1960         late\n",
       "3     April   29  1956    50s      1950      1950          mid"
      ]
     },
     "execution_count": 16,
     "metadata": {},
     "output_type": "execute_result"
    }
   ],
   "source": [
    "data['Decade Label'] = data['Decade 2'].apply(\n",
    "    lambda x: 'late' if x > 1950 else ('early' if x < 1950\n",
    "else 'mid'))\n",
    "\n",
    "data"
   ]
  },
  {
   "cell_type": "code",
   "execution_count": null,
   "id": "4ff61ba9-0f45-48e0-8f21-e7b7c2d6ede1",
   "metadata": {},
   "outputs": [],
   "source": []
  }
 ],
 "metadata": {
  "kernelspec": {
   "display_name": "Python (20th_century)",
   "language": "python",
   "name": "20th_century"
  },
  "language_info": {
   "codemirror_mode": {
    "name": "ipython",
    "version": 3
   },
   "file_extension": ".py",
   "mimetype": "text/x-python",
   "name": "python",
   "nbconvert_exporter": "python",
   "pygments_lexer": "ipython3",
   "version": "3.12.3"
  }
 },
 "nbformat": 4,
 "nbformat_minor": 5
}
